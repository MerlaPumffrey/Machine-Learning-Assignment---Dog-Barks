{
 "cells": [
  {
   "cell_type": "markdown",
   "metadata": {},
   "source": [
    "# Data Preprocessing"
   ]
  },
  {
   "cell_type": "markdown",
   "metadata": {},
   "source": [
    "The original dataset has been shared as part of [\"Barking in domestic dogs: context specificity and individual identification\"](https://www.sciencedirect.com/science/article/abs/pii/S000334720400123X), a paper by Sophia Yin and Brenda McCowan.\n",
    "\n",
    "You can download the unprocessed dataset from [Internet Archive](https://archive.org/details/dog-barks-raw).\n",
    "\n",
    "This is the version of the dataset we will begin our preprocessing with. Let's first download and extract the data."
   ]
  },
  {
   "cell_type": "code",
   "execution_count": 4,
   "metadata": {},
   "outputs": [],
   "source": [
    "!mkdir data"
   ]
  },
  {
   "cell_type": "code",
   "execution_count": 5,
   "metadata": {},
   "outputs": [
    {
     "name": "stdout",
     "output_type": "stream",
     "text": [
      "--2021-02-14 19:30:17--  https://archive.org/download/dog-barks-raw/Dog%20Bark%20Data.zip\n",
      "Resolving archive.org (archive.org)... 207.241.224.2\n",
      "Connecting to archive.org (archive.org)|207.241.224.2|:443... connected.\n",
      "HTTP request sent, awaiting response... 302 Found\n",
      "Location: https://ia801409.us.archive.org/11/items/dog-barks-raw/Dog%20Bark%20Data.zip [following]\n",
      "--2021-02-14 19:30:17--  https://ia801409.us.archive.org/11/items/dog-barks-raw/Dog%20Bark%20Data.zip\n",
      "Resolving ia801409.us.archive.org (ia801409.us.archive.org)... 207.241.228.149\n",
      "Connecting to ia801409.us.archive.org (ia801409.us.archive.org)|207.241.228.149|:443... connected.\n",
      "HTTP request sent, awaiting response... 200 OK\n",
      "Length: 1943878068 (1.8G) [application/zip]\n",
      "Saving to: ‘Dog Bark Data.zip’\n",
      "\n",
      "Dog Bark Data.zip   100%[===================>]   1.81G  2.23MB/s    in 19m 58s \n",
      "\n",
      "2021-02-14 19:50:15 (1.55 MB/s) - ‘Dog Bark Data.zip’ saved [1943878068/1943878068]\n",
      "\n"
     ]
    }
   ],
   "source": [
    "!cd data && wget https://archive.org/download/dog-barks-raw/Dog%20Bark%20Data.zip"
   ]
  },
  {
   "cell_type": "code",
   "execution_count": null,
   "metadata": {},
   "outputs": [],
   "source": [
    "!cd data && unzip -q Dog\\ Bark\\ Data.zip"
   ]
  },
  {
   "cell_type": "markdown",
   "metadata": {},
   "source": [
    "The data is contained in several directories."
   ]
  },
  {
   "cell_type": "code",
   "execution_count": 9,
   "metadata": {},
   "outputs": [
    {
     "name": "stdout",
     "output_type": "stream",
     "text": [
      "\u001b[0m\u001b[01;34mDog Bark Raw Data I - 09.24.00\u001b[0m/    \u001b[01;34mDogs 2001 - Siggy Sessions 1-4\u001b[0m/\r\n",
      "\u001b[01;34mDog Bark Raw Data II - 09.24.00\u001b[0m/   \u001b[01;34mSophia's Dog Barks - Louie Re-cued\u001b[0m/\r\n",
      "\u001b[01;34mDog Bark Raw Data III - 09.24.00\u001b[0m/  \u001b[01;34mVMTRC - UC Davis Dogs\u001b[0m/\r\n"
     ]
    }
   ],
   "source": [
    "ls data/Dog\\ Bark\\ Data/Dog"
   ]
  },
  {
   "cell_type": "markdown",
   "metadata": {},
   "source": [
    "There is also a key provided that allows us to decipher the data.\n",
    "\n",
    "\n",
    "```\n",
    "Filename: Mac-1-A-1a.aif\n",
    "Annotation: NameofDog-Session#-SessionSequenceNumber.aif\n",
    "\n",
    "A = aggression\n",
    "C = contact\n",
    "P = play\n",
    "\n",
    "Refer to Yin& McCowan 2004 for data collection methods.\n",
    "```"
   ]
  },
  {
   "cell_type": "markdown",
   "metadata": {},
   "source": [
    "Going by the directory structure would be invovled - let's instead enumerate all the audio files"
   ]
  },
  {
   "cell_type": "code",
   "execution_count": 38,
   "metadata": {},
   "outputs": [],
   "source": [
    "import librosa\n",
    "import glob"
   ]
  },
  {
   "cell_type": "code",
   "execution_count": 39,
   "metadata": {},
   "outputs": [],
   "source": [
    "paths = glob.glob('data/**/**/**/**/*.aif') + glob.glob('data/**/**/**/**/*.wav')"
   ]
  },
  {
   "cell_type": "markdown",
   "metadata": {},
   "source": [
    "There are 720 recordings in the dataset."
   ]
  },
  {
   "cell_type": "code",
   "execution_count": 41,
   "metadata": {},
   "outputs": [
    {
     "data": {
      "text/plain": [
       "720"
      ]
     },
     "execution_count": 41,
     "metadata": {},
     "output_type": "execute_result"
    }
   ],
   "source": [
    "len(paths)"
   ]
  },
  {
   "cell_type": "markdown",
   "metadata": {},
   "source": [
    "All of them have been recorded with a sampling rate of 44100."
   ]
  },
  {
   "cell_type": "code",
   "execution_count": 42,
   "metadata": {},
   "outputs": [
    {
     "data": {
      "text/plain": [
       "{44100}"
      ]
     },
     "execution_count": 42,
     "metadata": {},
     "output_type": "execute_result"
    }
   ],
   "source": [
    "set([librosa.core.load(paths[0], sr=None)[1] for path in paths])"
   ]
  },
  {
   "cell_type": "markdown",
   "metadata": {},
   "source": [
    "Let us now obtain annotations from file names and let's store all the audio files in a flat directory structure for ease of access."
   ]
  },
  {
   "cell_type": "code",
   "execution_count": 97,
   "metadata": {},
   "outputs": [],
   "source": [
    "mkdir data/audio"
   ]
  },
  {
   "cell_type": "code",
   "execution_count": 133,
   "metadata": {},
   "outputs": [],
   "source": [
    "import re\n",
    "import shutil\n",
    "\n",
    "filename = []\n",
    "name = []\n",
    "context = []\n",
    "\n",
    "for path in paths:\n",
    "    try:\n",
    "        n, session, c, session_sequence, *_ = re.findall('(\\w+)', path.split('/')[-1])\n",
    "        if c not in ['A', 'C', 'P']:\n",
    "            n, c, *_ = re.findall('(\\w+)', path.split('/')[-1])\n",
    "            if c not in ['A', 'C', 'P']:\n",
    "                n, _, c = re.findall('(\\w+)', path.split('/')[-1])\n",
    "                c = c[0]\n",
    "                if c not in ['A', 'C', 'P']: continue\n",
    "    except:\n",
    "        continue\n",
    "    shutil.copy(path, 'data/audio')\n",
    "    filename.append(path.split('/')[-1])\n",
    "    name.append(n)\n",
    "    context.append(c)"
   ]
  },
  {
   "cell_type": "code",
   "execution_count": 157,
   "metadata": {},
   "outputs": [],
   "source": [
    "fix_names = {\n",
    "    'Freid3': 'Freid',\n",
    "    'Freid4': 'Freid',\n",
    "    'Fried': 'Freid',\n",
    "    'Keri3': 'Keri',\n",
    "    'Kerik': 'Keri',\n",
    "    'Zzoe': 'Zoe',\n",
    "    'luke': 'Luke',\n",
    "    'Louis': 'Louie'\n",
    "    \n",
    "}\n",
    "\n",
    "name = [n if n not in fix_names.keys() else fix_names[n] for n in name]"
   ]
  },
  {
   "cell_type": "markdown",
   "metadata": {},
   "source": [
    "Let's add additional labels from the paper."
   ]
  },
  {
   "cell_type": "code",
   "execution_count": 128,
   "metadata": {},
   "outputs": [],
   "source": [
    "age_map = {\n",
    "    'Farley': 3,\n",
    "    'Freid': 5,\n",
    "    'Keri': 4,\n",
    "    'Louie': 2,\n",
    "    'Luke': 5,\n",
    "    'Mac': 5,\n",
    "    'Roodie': 12,\n",
    "    'Rudy': 11,\n",
    "    'Siggy': 11,\n",
    "    'Zoe': 7\n",
    "}\n",
    "\n",
    "weight_map = {\n",
    "    'Farley': 25,\n",
    "    'Freid': 6,\n",
    "    'Keri': 34,\n",
    "    'Louie': 19,\n",
    "    'Luke': 25,\n",
    "    'Mac': 34,\n",
    "    'Roodie': 18,\n",
    "    'Rudy': 32,\n",
    "    'Siggy': 36,\n",
    "    'Zoe': 16\n",
    "}\n",
    "\n",
    "sex_map = {\n",
    "    'Farley': 'male',\n",
    "    'Freid': 'male',\n",
    "    'Keri': 'female',\n",
    "    'Louie': 'male',\n",
    "    'Luke': 'male',\n",
    "    'Mac': 'male',\n",
    "    'Roodie': 'male',\n",
    "    'Rudy': 'male',\n",
    "    'Siggy': 'male',\n",
    "    'Zoe': 'female'\n",
    "}\n",
    "\n",
    "breed_map = {\n",
    "    'Farley': 'Australian shepherd',\n",
    "    'Freid': 'Dachsund',\n",
    "    'Keri': 'Labrador mix',\n",
    "    'Louie': 'Springer spaniel',\n",
    "    'Luke': 'Australian shepherd',\n",
    "    'Mac': 'German shorthair pointer',\n",
    "    'Roodie': 'Australian cattle dog',\n",
    "    'Rudy': 'German shorthair pointer',\n",
    "    'Siggy': 'German shorthair pointer',\n",
    "    'Zoe': 'Australian cattle dog'\n",
    "}\n",
    "\n",
    "age, weight, sex, breed = zip(*[(age_map[n], weight_map[n], sex_map[n], breed_map[n]) for n in name])"
   ]
  },
  {
   "cell_type": "markdown",
   "metadata": {},
   "source": [
    "Let's construct our annotations csv file."
   ]
  },
  {
   "cell_type": "code",
   "execution_count": 159,
   "metadata": {},
   "outputs": [],
   "source": [
    "import pandas as pd\n",
    "\n",
    "anno = pd.DataFrame(data={\n",
    "    'filename': filename,\n",
    "    'name': name,\n",
    "    'context': context,\n",
    "    'age': age,\n",
    "    'weight': weight,\n",
    "    'sex': sex,\n",
    "    'breed': breed\n",
    "})"
   ]
  },
  {
   "cell_type": "code",
   "execution_count": 160,
   "metadata": {},
   "outputs": [],
   "source": [
    "context_map = {\n",
    "    'A': 'aggression',\n",
    "    'C': 'contact',\n",
    "    'P': 'play'\n",
    "}\n",
    "\n",
    "anno.context = anno.context.apply(lambda c: context_map[c]) "
   ]
  },
  {
   "cell_type": "code",
   "execution_count": 161,
   "metadata": {},
   "outputs": [
    {
     "data": {
      "text/html": [
       "<div>\n",
       "<style scoped>\n",
       "    .dataframe tbody tr th:only-of-type {\n",
       "        vertical-align: middle;\n",
       "    }\n",
       "\n",
       "    .dataframe tbody tr th {\n",
       "        vertical-align: top;\n",
       "    }\n",
       "\n",
       "    .dataframe thead th {\n",
       "        text-align: right;\n",
       "    }\n",
       "</style>\n",
       "<table border=\"1\" class=\"dataframe\">\n",
       "  <thead>\n",
       "    <tr style=\"text-align: right;\">\n",
       "      <th></th>\n",
       "      <th>filename</th>\n",
       "      <th>name</th>\n",
       "      <th>context</th>\n",
       "      <th>age</th>\n",
       "      <th>weight</th>\n",
       "      <th>sex</th>\n",
       "      <th>breed</th>\n",
       "    </tr>\n",
       "  </thead>\n",
       "  <tbody>\n",
       "    <tr>\n",
       "      <th>0</th>\n",
       "      <td>Mac-3-A-3.aif</td>\n",
       "      <td>Mac</td>\n",
       "      <td>aggression</td>\n",
       "      <td>5</td>\n",
       "      <td>34</td>\n",
       "      <td>male</td>\n",
       "      <td>German shorthair pointer</td>\n",
       "    </tr>\n",
       "    <tr>\n",
       "      <th>1</th>\n",
       "      <td>Mac-3-P-3.aif</td>\n",
       "      <td>Mac</td>\n",
       "      <td>play</td>\n",
       "      <td>5</td>\n",
       "      <td>34</td>\n",
       "      <td>male</td>\n",
       "      <td>German shorthair pointer</td>\n",
       "    </tr>\n",
       "    <tr>\n",
       "      <th>2</th>\n",
       "      <td>Mac-2-P-2d.aif</td>\n",
       "      <td>Mac</td>\n",
       "      <td>play</td>\n",
       "      <td>5</td>\n",
       "      <td>34</td>\n",
       "      <td>male</td>\n",
       "      <td>German shorthair pointer</td>\n",
       "    </tr>\n",
       "    <tr>\n",
       "      <th>3</th>\n",
       "      <td>Mac-2-P-2b.aif</td>\n",
       "      <td>Mac</td>\n",
       "      <td>play</td>\n",
       "      <td>5</td>\n",
       "      <td>34</td>\n",
       "      <td>male</td>\n",
       "      <td>German shorthair pointer</td>\n",
       "    </tr>\n",
       "    <tr>\n",
       "      <th>4</th>\n",
       "      <td>Mac-2-A-2a..aif</td>\n",
       "      <td>Mac</td>\n",
       "      <td>aggression</td>\n",
       "      <td>5</td>\n",
       "      <td>34</td>\n",
       "      <td>male</td>\n",
       "      <td>German shorthair pointer</td>\n",
       "    </tr>\n",
       "  </tbody>\n",
       "</table>\n",
       "</div>"
      ],
      "text/plain": [
       "          filename name     context  age  weight   sex  \\\n",
       "0    Mac-3-A-3.aif  Mac  aggression    5      34  male   \n",
       "1    Mac-3-P-3.aif  Mac        play    5      34  male   \n",
       "2   Mac-2-P-2d.aif  Mac        play    5      34  male   \n",
       "3   Mac-2-P-2b.aif  Mac        play    5      34  male   \n",
       "4  Mac-2-A-2a..aif  Mac  aggression    5      34  male   \n",
       "\n",
       "                      breed  \n",
       "0  German shorthair pointer  \n",
       "1  German shorthair pointer  \n",
       "2  German shorthair pointer  \n",
       "3  German shorthair pointer  \n",
       "4  German shorthair pointer  "
      ]
     },
     "execution_count": 161,
     "metadata": {},
     "output_type": "execute_result"
    }
   ],
   "source": [
    "anno.head()"
   ]
  },
  {
   "cell_type": "code",
   "execution_count": 167,
   "metadata": {},
   "outputs": [],
   "source": [
    "# we can drop this row as the file is empty\n",
    "anno = anno[anno.filename != 'Siggy-4-A-4.aif']"
   ]
  },
  {
   "cell_type": "code",
   "execution_count": 171,
   "metadata": {},
   "outputs": [],
   "source": [
    "anno.to_csv('data/annotations.csv', index=False)"
   ]
  },
  {
   "cell_type": "code",
   "execution_count": 172,
   "metadata": {},
   "outputs": [],
   "source": [
    "!cd data && zip -qr dog_barks.zip annotations.csv audio"
   ]
  }
 ],
 "metadata": {
  "kernelspec": {
   "display_name": "Python 3 (ipykernel)",
   "language": "python",
   "name": "python3"
  },
  "language_info": {
   "codemirror_mode": {
    "name": "ipython",
    "version": 3
   },
   "file_extension": ".py",
   "mimetype": "text/x-python",
   "name": "python",
   "nbconvert_exporter": "python",
   "pygments_lexer": "ipython3",
   "version": "3.11.4"
  }
 },
 "nbformat": 4,
 "nbformat_minor": 4
}
